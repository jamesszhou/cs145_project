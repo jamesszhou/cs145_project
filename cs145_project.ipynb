{
 "cells": [
  {
   "cell_type": "markdown",
   "metadata": {},
   "source": [
    "### CS M145 Project"
   ]
  },
  {
   "cell_type": "markdown",
   "metadata": {},
   "source": [
    "## Loading Essentials and Helper Functions "
   ]
  },
  {
   "cell_type": "code",
   "execution_count": 1,
   "metadata": {},
   "outputs": [],
   "source": [
    "import numpy as np \n",
    "import pandas as pd \n",
    "import matplotlib.pyplot as plt \n",
    "\n",
    "from sklearn.model_selection import train_test_split\n",
    "from sklearn.preprocessing import OneHotEncoder\n",
    "from sklearn.neighbors import KNeighborsClassifier\n",
    "from sklearn import metrics\n",
    "\n",
    "import os\n",
    "import random\n",
    "\n",
    "\n",
    "random.seed(148) "
   ]
  },
  {
   "cell_type": "markdown",
   "metadata": {},
   "source": [
    "## Load DataSets\n"
   ]
  },
  {
   "cell_type": "code",
   "execution_count": 2,
   "metadata": {},
   "outputs": [],
   "source": [
    "df = pd.read_csv('train.csv')\n",
    "test_features_raw = pd.read_csv('test.csv')"
   ]
  },
  {
   "cell_type": "markdown",
   "metadata": {},
   "source": [
    "## Process and Split Data"
   ]
  },
  {
   "cell_type": "code",
   "execution_count": 3,
   "metadata": {},
   "outputs": [],
   "source": [
    "train_labels = df['Disease']\n",
    "train_features_raw = df.drop(columns = ['Disease'])"
   ]
  },
  {
   "cell_type": "code",
   "execution_count": 4,
   "metadata": {},
   "outputs": [
    {
     "data": {
      "text/plain": [
       "131"
      ]
     },
     "execution_count": 4,
     "metadata": {},
     "output_type": "execute_result"
    }
   ],
   "source": [
    "train_symptoms_set = []\n",
    "for c in train_features_raw.columns:\n",
    "    train_symptoms_set += list(pd.unique(train_features_raw[c]).astype('str'))\n",
    "train_symptoms_set = set([s.strip() for s in train_symptoms_set]) # trim the words of whitespace and then make it a set\n",
    "train_symptoms_set.remove('nan')\n",
    "symptom_to_id = {val: ind for ind, val in enumerate(list(train_symptoms_set))}\n",
    "len(train_symptoms_set)"
   ]
  },
  {
   "cell_type": "code",
   "execution_count": 5,
   "metadata": {},
   "outputs": [
    {
     "data": {
      "text/plain": [
       "True"
      ]
     },
     "execution_count": 5,
     "metadata": {},
     "output_type": "execute_result"
    }
   ],
   "source": [
    "# testing if how much of the symptoms in the test are included in training data\n",
    "test_symptoms_set = []\n",
    "for c in test_features_raw.columns:\n",
    "    test_symptoms_set += list(pd.unique(test_features_raw[c]).astype('str'))\n",
    "test_symptoms_set = set([s.strip() for s in test_symptoms_set]) # trim the words of whitespace and then make it a set\n",
    "test_symptoms_set.remove('nan')\n",
    "train_symptoms_set.issubset(test_symptoms_set)"
   ]
  },
  {
   "cell_type": "code",
   "execution_count": 6,
   "metadata": {},
   "outputs": [],
   "source": [
    "def transform_feature(dataframe):\n",
    "    '''\n",
    "    takes in a dataframe (symptoms only, no label)\n",
    "    for each entry, look through all of its symptoms, if the symptoms is in the training set, \n",
    "    set the corresponding column to 1 (otherwise 0)\n",
    "    '''\n",
    "    # first map all symptoms to its id\n",
    "    #transformed_df = dataframe.apply(lambda x: symptom_to_id.get(x, None))\n",
    "    # use the ids to set the appropriate zeros\n",
    "    def subfunction(row):\n",
    "        '''\n",
    "        first maps each row to its id, then\n",
    "        returns a numpy array of length symptoms_to_id with elements at id set to 1\n",
    "        and 0 elsewhere\n",
    "        '''\n",
    "        row = row.to_numpy().astype(str)\n",
    "        ids = np.array([symptom_to_id.get(s.strip(), None) for s in row])\n",
    "        ans = np.zeros(len(symptom_to_id))\n",
    "        ans[ids[ids != np.array(None)].astype(int)] = 1\n",
    "        return ans\n",
    "    transformed_df = dataframe.apply(subfunction, axis=1)\n",
    "    return transformed_df"
   ]
  },
  {
   "cell_type": "code",
   "execution_count": 7,
   "metadata": {},
   "outputs": [],
   "source": [
    "train_features_transformed = np.stack(transform_feature(train_features_raw).to_numpy())\n",
    "test_features_transformed = np.stack(transform_feature(test_features_raw).to_numpy())"
   ]
  },
  {
   "cell_type": "markdown",
   "metadata": {},
   "source": [
    "`train_features_transformed` would contain the transformed train features (used for training), while `test_features_transformed` would contain the transformed test features (used for testing)."
   ]
  },
  {
   "cell_type": "markdown",
   "metadata": {},
   "source": [
    "## kNN Cross Validation"
   ]
  },
  {
   "cell_type": "code",
   "execution_count": 22,
   "metadata": {},
   "outputs": [
    {
     "name": "stderr",
     "output_type": "stream",
     "text": [
      "/opt/anaconda3/envs/cs-m148/lib/python3.9/site-packages/sklearn/model_selection/_split.py:676: UserWarning: The least populated class in y has only 3 members, which is less than n_splits=5.\n",
      "  warnings.warn(\n",
      "/opt/anaconda3/envs/cs-m148/lib/python3.9/site-packages/sklearn/model_selection/_split.py:676: UserWarning: The least populated class in y has only 3 members, which is less than n_splits=5.\n",
      "  warnings.warn(\n",
      "/opt/anaconda3/envs/cs-m148/lib/python3.9/site-packages/sklearn/model_selection/_split.py:676: UserWarning: The least populated class in y has only 3 members, which is less than n_splits=5.\n",
      "  warnings.warn(\n",
      "/opt/anaconda3/envs/cs-m148/lib/python3.9/site-packages/sklearn/model_selection/_split.py:676: UserWarning: The least populated class in y has only 3 members, which is less than n_splits=5.\n",
      "  warnings.warn(\n",
      "/opt/anaconda3/envs/cs-m148/lib/python3.9/site-packages/sklearn/model_selection/_split.py:676: UserWarning: The least populated class in y has only 3 members, which is less than n_splits=5.\n",
      "  warnings.warn(\n",
      "/opt/anaconda3/envs/cs-m148/lib/python3.9/site-packages/sklearn/model_selection/_split.py:676: UserWarning: The least populated class in y has only 3 members, which is less than n_splits=5.\n",
      "  warnings.warn(\n"
     ]
    },
    {
     "name": "stdout",
     "output_type": "stream",
     "text": [
      "1.000000:[1. 1. 1. 1. 1.]\n",
      "2.000000:[1. 1. 1. 1. 1.]\n",
      "3.000000:[1. 1. 1. 1. 1.]\n",
      "4.000000:[1. 1. 1. 1. 1.]\n",
      "5.000000:[1. 1. 1. 1. 1.]\n",
      "6.000000:[1.         0.98734177 0.98734177 0.98734177 0.98717949]\n"
     ]
    },
    {
     "name": "stderr",
     "output_type": "stream",
     "text": [
      "/opt/anaconda3/envs/cs-m148/lib/python3.9/site-packages/sklearn/model_selection/_split.py:676: UserWarning: The least populated class in y has only 3 members, which is less than n_splits=5.\n",
      "  warnings.warn(\n",
      "/opt/anaconda3/envs/cs-m148/lib/python3.9/site-packages/sklearn/model_selection/_split.py:676: UserWarning: The least populated class in y has only 3 members, which is less than n_splits=5.\n",
      "  warnings.warn(\n",
      "/opt/anaconda3/envs/cs-m148/lib/python3.9/site-packages/sklearn/model_selection/_split.py:676: UserWarning: The least populated class in y has only 3 members, which is less than n_splits=5.\n",
      "  warnings.warn(\n",
      "/opt/anaconda3/envs/cs-m148/lib/python3.9/site-packages/sklearn/model_selection/_split.py:676: UserWarning: The least populated class in y has only 3 members, which is less than n_splits=5.\n",
      "  warnings.warn(\n",
      "/opt/anaconda3/envs/cs-m148/lib/python3.9/site-packages/sklearn/model_selection/_split.py:676: UserWarning: The least populated class in y has only 3 members, which is less than n_splits=5.\n",
      "  warnings.warn(\n"
     ]
    },
    {
     "name": "stdout",
     "output_type": "stream",
     "text": [
      "7.000000:[1.         0.98734177 0.98734177 0.98734177 0.98717949]\n",
      "8.000000:[1.         0.97468354 0.97468354 0.98734177 0.98717949]\n",
      "9.000000:[0.97468354 0.94936709 0.97468354 0.98734177 0.97435897]\n",
      "10.000000:[0.94936709 0.91139241 0.97468354 0.98734177 0.94871795]\n",
      "11.000000:[0.93670886 0.89873418 0.93670886 0.97468354 0.92307692]\n",
      "12.000000:[0.91139241 0.86075949 0.89873418 0.96202532 0.91025641]\n"
     ]
    },
    {
     "name": "stderr",
     "output_type": "stream",
     "text": [
      "/opt/anaconda3/envs/cs-m148/lib/python3.9/site-packages/sklearn/model_selection/_split.py:676: UserWarning: The least populated class in y has only 3 members, which is less than n_splits=5.\n",
      "  warnings.warn(\n",
      "/opt/anaconda3/envs/cs-m148/lib/python3.9/site-packages/sklearn/model_selection/_split.py:676: UserWarning: The least populated class in y has only 3 members, which is less than n_splits=5.\n",
      "  warnings.warn(\n",
      "/opt/anaconda3/envs/cs-m148/lib/python3.9/site-packages/sklearn/model_selection/_split.py:676: UserWarning: The least populated class in y has only 3 members, which is less than n_splits=5.\n",
      "  warnings.warn(\n",
      "/opt/anaconda3/envs/cs-m148/lib/python3.9/site-packages/sklearn/model_selection/_split.py:676: UserWarning: The least populated class in y has only 3 members, which is less than n_splits=5.\n",
      "  warnings.warn(\n",
      "/opt/anaconda3/envs/cs-m148/lib/python3.9/site-packages/sklearn/model_selection/_split.py:676: UserWarning: The least populated class in y has only 3 members, which is less than n_splits=5.\n",
      "  warnings.warn(\n"
     ]
    },
    {
     "name": "stdout",
     "output_type": "stream",
     "text": [
      "13.000000:[0.89873418 0.86075949 0.88607595 0.96202532 0.91025641]\n",
      "14.000000:[0.89873418 0.86075949 0.88607595 0.93670886 0.88461538]\n",
      "15.000000:[0.89873418 0.83544304 0.88607595 0.91139241 0.85897436]\n",
      "16.000000:[0.87341772 0.82278481 0.88607595 0.88607595 0.79487179]\n",
      "17.000000:[0.84810127 0.82278481 0.83544304 0.87341772 0.75641026]\n"
     ]
    },
    {
     "name": "stderr",
     "output_type": "stream",
     "text": [
      "/opt/anaconda3/envs/cs-m148/lib/python3.9/site-packages/sklearn/model_selection/_split.py:676: UserWarning: The least populated class in y has only 3 members, which is less than n_splits=5.\n",
      "  warnings.warn(\n"
     ]
    }
   ],
   "source": [
    "from sklearn.model_selection import cross_val_score\n",
    "from sklearn.neighbors import KNeighborsClassifier\n",
    "\n",
    "for i in range(1, 18):\n",
    "    clf = KNeighborsClassifier(n_neighbors = i)\n",
    "    scores = cross_val_score(clf, train_features_transformed, train_labels, cv=5)\n",
    "    print(\"{:2f}:{}\".format(i, scores))"
   ]
  },
  {
   "cell_type": "markdown",
   "metadata": {},
   "source": [
    "## Cosine Similarity"
   ]
  },
  {
   "cell_type": "code",
   "execution_count": 52,
   "metadata": {},
   "outputs": [],
   "source": [
    "# construct an average vector for all disease (normalized)\n",
    "diseases = train_labels.unique().astype(str)\n",
    "disease_to_avg_vector = {}\n",
    "for disease in diseases:\n",
    "    subset = df.loc[df['Disease'] == disease]\n",
    "    subset_transformed = np.stack(transform_feature(subset).to_numpy()).sum(axis=0)\n",
    "    subset_transformed /= np.linalg.norm(subset_transformed)\n",
    "    disease_to_avg_vector[disease] = subset_transformed"
   ]
  },
  {
   "cell_type": "code",
   "execution_count": 55,
   "metadata": {},
   "outputs": [],
   "source": [
    "def cos_clf(entry):\n",
    "    # normalize the entry and dot it with the diseases\n",
    "    # return the string with the highest dot product\n",
    "    entry /= np.linalg.norm(entry)\n",
    "    return diseases[np.argmax([np.dot(entry, disease_to_avg_vector[disease]) for disease in diseases])]\n",
    "preds = [cos_clf(entry) for entry in test_features_transformed]\n",
    "out = pd.DataFrame(preds, columns=['Disease'])\n",
    "out.index += 1\n",
    "out.to_csv(\"attempt.csv\", index_label='ID')"
   ]
  }
 ],
 "metadata": {
  "interpreter": {
   "hash": "e2b4b543088541a807e06e1625987a13e669517e82f1996c665d47581f48fce3"
  },
  "kernelspec": {
   "display_name": "Python 3 (ipykernel)",
   "language": "python",
   "name": "python3"
  },
  "language_info": {
   "codemirror_mode": {
    "name": "ipython",
    "version": 3
   },
   "file_extension": ".py",
   "mimetype": "text/x-python",
   "name": "python",
   "nbconvert_exporter": "python",
   "pygments_lexer": "ipython3",
   "version": "3.9.7"
  }
 },
 "nbformat": 4,
 "nbformat_minor": 2
}
